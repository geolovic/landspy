{
 "cells": [
  {
   "cell_type": "markdown",
   "id": "34fb78c6",
   "metadata": {
    "pycharm": {
     "name": "#%% md\n"
    }
   },
   "source": [
    "## Tutorial 2. Calulation of Chi-maps and ksn values"
   ]
  },
  {
   "cell_type": "markdown",
   "id": "2256aa2e",
   "metadata": {
    "pycharm": {
     "name": "#%% md\n"
    }
   },
   "source": [
    "In this tutorial we will use the Network object created earlier to derive a Chi map and calculate the ksn values.\n",
    "It is necessary to complete tutorial 1, since we are going to use the Network object created in it. \n",
    "\n",
    "To run this tutorial in Jupyter, make sure that the \"data\" folder is inside the same folder of the notebook with the tutorial data. "
   ]
  },
  {
   "cell_type": "markdown",
   "id": "189114aa",
   "metadata": {
    "pycharm": {
     "name": "#%% md\n"
    }
   },
   "source": [
    "### 1. Load a previously created Network object\n",
    "\n",
    "To load a previously created Network object (saved as *.dat file), simply call the Network class with the path as unique attribute"
   ]
  },
  {
   "cell_type": "code",
   "execution_count": 7,
   "id": "a7895cf8",
   "metadata": {
    "pycharm": {
     "name": "#%%\n"
    }
   },
   "outputs": [],
   "source": [
    "from landspy import Network\n",
    "\n",
    "# Load a previously saved Network object. \n",
    "net = Network(\"data/guadalfeo_net1600.dat\")"
   ]
  },
  {
   "cell_type": "markdown",
   "id": "d924704a",
   "metadata": {
    "pycharm": {
     "name": "#%% md\n"
    }
   },
   "source": [
    "### 2. Create Chi maps with different segment distances\n",
    "\n",
    "From the Network object we can create a chi map in shapefile format with the `.chiShapefile()` method\n",
    "\n",
    ">- `Network.chiShapefile(out_shp, distance)`\n",
    "    - `out_shp` (str) Path to the chi map in shapefile format\n",
    "    - `distance` (float) Segment distance to calculate chi, ksn, slope, etc. \n",
    "\n",
    "The Chi map will be calculated by taking a distance window and the slope and ksn will be calculated by linear regression with all vertices of the segment. This will produce slightly different values than the pixel values calculated in the Network object, because the calculation is not done for each pixel but for linear segments.\n",
    "\n",
    "To calculate the Chi map with a different m/n ratio, simply recalculate the Chi values with the new m/n before calling the `.chiShapefile()` method. Note that the `.calculateGradients()` method is not necessary because gradients are calculated per segment but not \"per pixel\". "
   ]
  },
  {
   "cell_type": "code",
   "execution_count": 8,
   "id": "6353956d",
   "metadata": {
    "pycharm": {
     "name": "#%%\n"
    }
   },
   "outputs": [],
   "source": [
    "# Create a Chi map for segments of 250 and 500 meters\n",
    "net.chiShapefile(\"data/chimap_250.shp\", 250)\n",
    "net.chiShapefile(\"data/chimap_500.shp\", 500)"
   ]
  },
  {
   "cell_type": "code",
   "execution_count": 9,
   "id": "a9079719",
   "metadata": {
    "pycharm": {
     "name": "#%%\n"
    }
   },
   "outputs": [],
   "source": [
    "# Change the m/n ratio to 0.45 and create chi maps\n",
    "net.calculateChi(0.45) # Remember that we changed the m/n to 0.3 in last tutorial\n",
    "net.chiShapefile(\"data/chimap2_250.shp\", 250)\n",
    "net.chiShapefile(\"data/chimap2_500.shp\", 500)"
   ]
  },
  {
   "cell_type": "markdown",
   "id": "cc9f11e4",
   "metadata": {
    "pycharm": {
     "name": "#%% md\n"
    }
   },
   "source": [
    "Chi maps can be viewed and classified in QGIS. "
   ]
  }
 ],
 "metadata": {
  "kernelspec": {
   "display_name": "Python 3 (ipykernel)",
   "language": "python",
   "name": "python3"
  },
  "language_info": {
   "codemirror_mode": {
    "name": "ipython",
    "version": 3
   },
   "file_extension": ".py",
   "mimetype": "text/x-python",
   "name": "python",
   "nbconvert_exporter": "python",
   "pygments_lexer": "ipython3",
   "version": "3.7.6"
  }
 },
 "nbformat": 4,
 "nbformat_minor": 5
}
