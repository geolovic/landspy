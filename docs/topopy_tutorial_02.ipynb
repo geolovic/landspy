{
 "cells": [
  {
   "cell_type": "code",
   "execution_count": 1,
   "id": "2f2388f1",
   "metadata": {},
   "outputs": [],
   "source": [
    "## Import topopy modules\n",
    "import sys\n",
    "sys.path.append(\"D:/Usuario/Documents/github/topopy/src\")"
   ]
  },
  {
   "cell_type": "markdown",
   "id": "34fb78c6",
   "metadata": {},
   "source": [
    "## Tutorial 2. Calculate Chi map and ksn values"
   ]
  },
  {
   "cell_type": "markdown",
   "id": "2256aa2e",
   "metadata": {},
   "source": [
    "In this tutorial we will use the previously created Network object to derive a Chi map and compute ksn values.\n",
    "It is necessary to have the Network object created in tutorial 1"
   ]
  },
  {
   "cell_type": "code",
   "execution_count": 2,
   "id": "3b19b3bc",
   "metadata": {},
   "outputs": [],
   "source": [
    "# Change the tutorial folder to get the data\n",
    "import os\n",
    "os.chdir(\"../tests/data\")"
   ]
  },
  {
   "cell_type": "markdown",
   "id": "189114aa",
   "metadata": {},
   "source": [
    "### 1. Load a previously created Network object\n",
    "\n",
    "To load a previously created Network object (saved as *.dat file), simply call the Network class with the path as unique attribute"
   ]
  },
  {
   "cell_type": "code",
   "execution_count": 3,
   "id": "a7895cf8",
   "metadata": {},
   "outputs": [],
   "source": [
    "from topopy import Network\n",
    "\n",
    "# Load a previously saved Network object. \n",
    "net = Network(\"out/jebja_net1000.dat\")"
   ]
  },
  {
   "cell_type": "markdown",
   "id": "d924704a",
   "metadata": {},
   "source": [
    "### 2. Create Chi maps with different segment distances\n",
    "\n",
    "From the Network object we can create a chi map in shapefile format with the `.get_chi_shapefile()` method\n",
    "\n",
    ">- `Network.get_chi_shapefile(out_shp, distance)`\n",
    "    - `out_shp` (str) Path to the chi map in shapefile format\n",
    "    - `distance` (float) Segment distance to calculate chi, ksn, slope, etc. \n",
    "\n",
    "The Chi map will be calculated by taking a distance window and the slope and ksn will be calculated by linear regression with all vertices of the segment. This will produce slightly different values than the pixel values calculated in the Network object, because the calculation is not done for each pixel but for linear segments.\n",
    "\n",
    "To calculate the Chi map with a different m/n ratio, simply recalculate the Chi values with the new m/n before calling the `.get_chi_shapefile()` method. Note that the `.calculate_gradients()` method is not necessary because gradients are calculated per segment but not \"per pixel\". "
   ]
  },
  {
   "cell_type": "code",
   "execution_count": 4,
   "id": "6353956d",
   "metadata": {},
   "outputs": [],
   "source": [
    "# Create a Chi map for segments of 250 and 500 meters\n",
    "net.get_chi_shapefile(\"out/chimap_250.shp\", 250)\n",
    "net.get_chi_shapefile(\"out/chimap_500.shp\", 500)"
   ]
  },
  {
   "cell_type": "code",
   "execution_count": 5,
   "id": "a9079719",
   "metadata": {},
   "outputs": [],
   "source": [
    "# Change the m/n ratio to 0.45 and create chi maps\n",
    "net.calculate_chi(0.45) # Remember that we changed the m/n to 0.3 in last tutorial\n",
    "net.get_chi_shapefile(\"out/chimap2_250.shp\", 250)\n",
    "net.get_chi_shapefile(\"out/chimap2_500.shp\", 500)"
   ]
  },
  {
   "cell_type": "markdown",
   "id": "14bbead9",
   "metadata": {},
   "source": [
    "Chi maps can be viewed and classified in QGIS. The following image shows the ksn values for segments of 250 and 500 meters with a m/n ratio of 0.3.\n",
    "\n",
    "![image](images/ksn_values.jpg)"
   ]
  },
  {
   "cell_type": "code",
   "execution_count": null,
   "id": "6713e916",
   "metadata": {},
   "outputs": [],
   "source": []
  }
 ],
 "metadata": {
  "kernelspec": {
   "display_name": "Python 3 (ipykernel)",
   "language": "python",
   "name": "python3"
  },
  "language_info": {
   "codemirror_mode": {
    "name": "ipython",
    "version": 3
   },
   "file_extension": ".py",
   "mimetype": "text/x-python",
   "name": "python",
   "nbconvert_exporter": "python",
   "pygments_lexer": "ipython3",
   "version": "3.10.2"
  }
 },
 "nbformat": 4,
 "nbformat_minor": 5
}
