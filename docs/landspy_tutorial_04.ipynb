{
 "cells": [
  {
   "cell_type": "markdown",
   "id": "34fb78c6",
   "metadata": {},
   "source": [
    "## Tutorial 4. Create channels from a polyline shapefile"
   ]
  },
  {
   "cell_type": "markdown",
   "id": "2256aa2e",
   "metadata": {},
   "source": [
    "In this tutorial we will use the previously created Network object to create two main channels for the extracted basins and see the different profiles. \n",
    "\n",
    "To run this tutorial in Jupyter, make sure that the \"data\" folder is inside the same folder of the notebook with the tutorial data. "
   ]
  },
  {
   "cell_type": "markdown",
   "id": "189114aa",
   "metadata": {},
   "source": [
    "### 1. Load a previously created Network object\n",
    "\n",
    "To load a previously created Network object (saved as *.dat file), simply call the Network class with the path as unique attribute"
   ]
  },
  {
   "cell_type": "code",
   "execution_count": 2,
   "id": "a7895cf8",
   "metadata": {},
   "outputs": [],
   "source": [
    "from landspy import Network\n",
    "\n",
    "# Load a previously saved Network object. \n",
    "net = Network(\"data/jebja_net1000.dat\")"
   ]
  },
  {
   "cell_type": "markdown",
   "id": "d924704a",
   "metadata": {},
   "source": [
    "### 2. Create a vectorial drainage network with continous channels\n",
    "\n",
    "We will create a vector drainage network with continous channels, open it in QGIS and extract the main channels for the principal basins. \n"
   ]
  },
  {
   "cell_type": "code",
   "execution_count": 3,
   "id": "6353956d",
   "metadata": {},
   "outputs": [],
   "source": [
    "# We created the network (vector format)\n",
    "net.exportShp(\"data/network.shp\", True)"
   ]
  },
  {
   "cell_type": "markdown",
   "id": "07cec7a2",
   "metadata": {},
   "source": [
    "Open the shapefile in QGIS and select the main channels for the two principal drainage basins. As \"continous channel\" options was selected, it is easier to select the polylines corresponding to these channels.\n",
    "![image](images/select_polylines.jpg)\n",
    "\n",
    "Export these lines to a new shapefile, start editing and merge contigous segments. The ouput shapefile must contain only two polylines, corresponding to the main channels selected. Create a field **id** and a **name** field if desired. Give ids and names to both channels.\n",
    "\n",
    "Save the polyline shapefile as **selected_rivers.shp** and place it in the **out** folder. If you prefer, in the data folder, there is already a shapefile with both rivers. \n",
    "\n",
    "To get channels objects from a polyline we can use the function `shp_to_channels()` from landspy. This function takes first and last vertex of the polyline and extracts the channel. \n",
    "\n",
    ">- `shp_to_channels(path, net, id_field=\"\", name_field=\"\")`\n",
    "    - `path` (str) Path to the polyline shapefile\n",
    "    - `net` (Network) Network instance\n",
    "    - `id_field` (str) Field with channel ids\n",
    "    - `name_field` (str) Field with channel names\n",
    "\n"
   ]
  },
  {
   "cell_type": "code",
   "execution_count": 4,
   "id": "a9079719",
   "metadata": {},
   "outputs": [
    {
     "data": {
      "text/plain": [
       "<matplotlib.legend.Legend at 0x7fa5322e2f90>"
      ]
     },
     "execution_count": 4,
     "metadata": {},
     "output_type": "execute_result"
    },
    {
     "data": {
      "image/png": "[encoded data removed]",
      "text/plain": [
       "<Figure size 432x288 with 1 Axes>"
      ]
     },
     "metadata": {
      "needs_background": "light"
     },
     "output_type": "display_data"
    }
   ],
   "source": [
    "from landspy import shp_to_channels\n",
    "import matplotlib.pyplot as plt\n",
    "\n",
    "canales = shp_to_channels(\"data/selected_rivers.shp\", net, \"id\")\n",
    "\n",
    "# Plot both channels in a Chi profile\n",
    "fig, ax = plt.subplots()\n",
    "for canal in canales:\n",
    "    zi = canal.getZ()\n",
    "    chi = canal.getChi()\n",
    "    ax.plot(chi, zi, label=canal.getOid())\n",
    "\n",
    "ax.set_xlabel(\"$\\\\chi$ (m)\")\n",
    "ax.set_ylabel(\"Elevation (m)\")\n",
    "ax.legend()"
   ]
  }
 ],
 "metadata": {
  "kernelspec": {
   "display_name": "Python 3 (ipykernel)",
   "language": "python",
   "name": "python3"
  },
  "language_info": {
   "codemirror_mode": {
    "name": "ipython",
    "version": 3
   },
   "file_extension": ".py",
   "mimetype": "text/x-python",
   "name": "python",
   "nbconvert_exporter": "python",
   "pygments_lexer": "ipython3",
   "version": "3.7.6"
  }
 },
 "nbformat": 4,
 "nbformat_minor": 5
}
